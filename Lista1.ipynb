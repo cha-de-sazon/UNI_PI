{
  "nbformat": 4,
  "nbformat_minor": 0,
  "metadata": {
    "colab": {
      "provenance": [],
      "authorship_tag": "ABX9TyNT+kMvE6TdrfnWacspaUBv",
      "include_colab_link": true
    },
    "kernelspec": {
      "name": "python3",
      "display_name": "Python 3"
    },
    "language_info": {
      "name": "python"
    }
  },
  "cells": [
    {
      "cell_type": "markdown",
      "metadata": {
        "id": "view-in-github",
        "colab_type": "text"
      },
      "source": [
        "<a href=\"https://colab.research.google.com/github/cha-de-sazon/UNI_PI/blob/main/Lista1.ipynb\" target=\"_parent\"><img src=\"https://colab.research.google.com/assets/colab-badge.svg\" alt=\"Open In Colab\"/></a>"
      ]
    },
    {
      "cell_type": "code",
      "execution_count": null,
      "metadata": {
        "colab": {
          "base_uri": "https://localhost:8080/"
        },
        "id": "Lli3AwikEBV8",
        "outputId": "64a1d8db-e41f-42e6-8960-57f4675edeae"
      },
      "outputs": [
        {
          "output_type": "stream",
          "name": "stdout",
          "text": [
            "Área: 700.0 m\n"
          ]
        }
      ],
      "source": [
        "#1\n",
        "\n",
        "lado = float(350)\n",
        "\n",
        "print(\"Área:\", lado * 2, \"m\")"
      ]
    },
    {
      "cell_type": "code",
      "source": [
        "#2\n",
        "\n",
        "notas = [7.5, 4.5, 9]\n",
        "\n",
        "print(\"Média:\", sum(notas) / len(notas))"
      ],
      "metadata": {
        "colab": {
          "base_uri": "https://localhost:8080/"
        },
        "id": "YKH3ep2XE-9E",
        "outputId": "7e0862e3-b63c-4978-d16c-cef35b323417"
      },
      "execution_count": 1,
      "outputs": [
        {
          "output_type": "stream",
          "name": "stdout",
          "text": [
            "Média: 7.0\n"
          ]
        }
      ]
    },
    {
      "cell_type": "code",
      "source": [
        "#3\n",
        "\n",
        "hugo = \"Hugo\"\n",
        "gastou = \"gastou 50 reais\"\n",
        "ontem = \"ontem\"\n",
        "\n",
        "print(hugo, gastou, ontem)"
      ],
      "metadata": {
        "colab": {
          "base_uri": "https://localhost:8080/"
        },
        "id": "pdoosLzuFX4h",
        "outputId": "d7c0ac63-8969-498c-e215-d176e44e7892"
      },
      "execution_count": null,
      "outputs": [
        {
          "output_type": "stream",
          "name": "stdout",
          "text": [
            "Hugo gastou 50 reais ontem\n"
          ]
        }
      ]
    },
    {
      "cell_type": "code",
      "source": [
        "#4\n",
        "\n",
        "raio = float(5)\n",
        "pi = float(3.14159)\n",
        "\n",
        "print(\"Área:\", pi * raio * 2)"
      ],
      "metadata": {
        "colab": {
          "base_uri": "https://localhost:8080/"
        },
        "id": "VetLiEU8GPbv",
        "outputId": "56f406e6-dbf9-49df-dde4-692ec2ab84fc"
      },
      "execution_count": null,
      "outputs": [
        {
          "output_type": "stream",
          "name": "stdout",
          "text": [
            "Área: 31.4159\n"
          ]
        }
      ]
    },
    {
      "cell_type": "code",
      "source": [
        "#5\n",
        "\n",
        "num1 = int(input(\"Primeiro Número: \"))\n",
        "num2 = int(input(\"Segundo Número: \"))\n",
        "\n",
        "print(\"Produto =\", num1 * num2)"
      ],
      "metadata": {
        "colab": {
          "base_uri": "https://localhost:8080/"
        },
        "id": "INjLG9a7HArQ",
        "outputId": "7f3f301b-af10-4bbe-c78b-b4198ab14e9d"
      },
      "execution_count": null,
      "outputs": [
        {
          "output_type": "stream",
          "name": "stdout",
          "text": [
            "Primeiro Número: 5\n",
            "Segundo Número: 10\n",
            "Produto = 50\n"
          ]
        }
      ]
    },
    {
      "cell_type": "code",
      "source": [
        "#6\n",
        "\n",
        "numNotas = int(4)\n",
        "notas = []\n",
        "\n",
        "for i in range(numNotas):\n",
        "  notas.append(float(input(f\"Nota {i+1}: \")))\n",
        "\n",
        "print(\"Média:\", sum(notas) / numNotas)"
      ],
      "metadata": {
        "colab": {
          "base_uri": "https://localhost:8080/"
        },
        "id": "8FOv5HZ0Hql0",
        "outputId": "bed357db-b9a5-4d05-b3e7-86078607e09e"
      },
      "execution_count": null,
      "outputs": [
        {
          "output_type": "stream",
          "name": "stdout",
          "text": [
            "Nota 1: 10\n",
            "Nota 2: 7.3\n",
            "Nota 3: 0\n",
            "Nota 4: 8\n",
            "Média: 6.325\n"
          ]
        }
      ]
    },
    {
      "cell_type": "code",
      "source": [
        "#7\n",
        "\n",
        "base = float(input(\"Base: \"))\n",
        "altura = float(input(\"Altura: \"))\n",
        "\n",
        "print(\"Área:\", base * altura / 2)"
      ],
      "metadata": {
        "colab": {
          "base_uri": "https://localhost:8080/"
        },
        "id": "UM5jjl9UIu-2",
        "outputId": "9ac636be-67e0-4a1c-9024-e9245c9e3d52"
      },
      "execution_count": null,
      "outputs": [
        {
          "output_type": "stream",
          "name": "stdout",
          "text": [
            "Base: 10\n",
            "Altura: 5\n",
            "Área: 25.0\n"
          ]
        }
      ]
    },
    {
      "cell_type": "code",
      "source": [
        "#8\n",
        "\n",
        "quadrado = int(92)\n",
        "cubo = int(4)\n",
        "resto = int(1000)\n",
        "\n",
        "ler = [pow(quadrado, 2), pow(cubo, 3), resto % 4.5]\n",
        "\n",
        "print(ler)"
      ],
      "metadata": {
        "colab": {
          "base_uri": "https://localhost:8080/"
        },
        "id": "-mShnKqVJzfy",
        "outputId": "fc15debb-4e25-4448-bb34-03ad37ba8277"
      },
      "execution_count": null,
      "outputs": [
        {
          "output_type": "stream",
          "name": "stdout",
          "text": [
            "[8464, 64, 1.0]\n"
          ]
        }
      ]
    },
    {
      "cell_type": "code",
      "source": [
        "#9\n",
        "\n",
        "nasc = int(input(\"Ano de nascimento: \"))\n",
        "atual = int(input(\"Ano atual: \"))\n",
        "\n",
        "idade = atual - nasc\n",
        "futuro = idade + 2050 - atual\n",
        "\n",
        "print(f\"Idade hoje: {idade}\")\n",
        "print(f\"Idade em 2050: {futuro}\")"
      ],
      "metadata": {
        "colab": {
          "base_uri": "https://localhost:8080/"
        },
        "id": "WFPoUcX0LdIJ",
        "outputId": "f7e9d241-200e-44ee-9b8f-981b8ec6e4d7"
      },
      "execution_count": null,
      "outputs": [
        {
          "output_type": "stream",
          "name": "stdout",
          "text": [
            "Ano de nascimento: 2005\n",
            "Ano atual: 2025\n",
            "Idade hoje: 20\n",
            "Idade em 2050: 45\n"
          ]
        }
      ]
    },
    {
      "cell_type": "code",
      "source": [
        "#10\n",
        "\n",
        "conta = float(input(\"Valor da conta: \"))\n",
        "gorjeta = float(conta / 10)\n",
        "\n",
        "print(f\"Conta: R$ {conta:.2f}\")\n",
        "print(f\"Gorjeta: R$ {gorjeta:.2f}\")\n",
        "print(f\"Total: R$ {conta + gorjeta:.2f}\")"
      ],
      "metadata": {
        "colab": {
          "base_uri": "https://localhost:8080/"
        },
        "id": "FtugbR_jMUT3",
        "outputId": "e64f7155-dc6d-49a4-ce82-75e388504eb7"
      },
      "execution_count": null,
      "outputs": [
        {
          "output_type": "stream",
          "name": "stdout",
          "text": [
            "Valor da conta: 1200\n",
            "Conta: R$ 1200.00\n",
            "Gorjeta: R$ 120.00\n",
            "Total: R$ 1320.00\n"
          ]
        }
      ]
    },
    {
      "cell_type": "code",
      "source": [
        "#11\n",
        "\n",
        "comprimento = float(input(\"Comprimento da Sala: \"))\n",
        "largura = float(input(\"Largura da Sala: \"))\n",
        "\n",
        "print(f\"Área: {comprimento * largura} m\")"
      ],
      "metadata": {
        "colab": {
          "base_uri": "https://localhost:8080/"
        },
        "id": "EAaAUrwSNAhk",
        "outputId": "45ef24f7-ecfc-4468-bd72-db9be4ccab27"
      },
      "execution_count": null,
      "outputs": [
        {
          "output_type": "stream",
          "name": "stdout",
          "text": [
            "Comprimento da Sala: 15\n",
            "Largura da Sala: 25\n",
            "Área: 375.0 m\n"
          ]
        }
      ]
    }
  ]
}