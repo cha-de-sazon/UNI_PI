{
  "nbformat": 4,
  "nbformat_minor": 0,
  "metadata": {
    "colab": {
      "provenance": [],
      "authorship_tag": "ABX9TyNQnRh4efO+Mo/W/PcabdYf",
      "include_colab_link": true
    },
    "kernelspec": {
      "name": "python3",
      "display_name": "Python 3"
    },
    "language_info": {
      "name": "python"
    }
  },
  "cells": [
    {
      "cell_type": "markdown",
      "metadata": {
        "id": "view-in-github",
        "colab_type": "text"
      },
      "source": [
        "<a href=\"https://colab.research.google.com/github/cha-de-sazon/UNI_PI/blob/main/Lista_2_Sara.ipynb\" target=\"_parent\"><img src=\"https://colab.research.google.com/assets/colab-badge.svg\" alt=\"Open In Colab\"/></a>"
      ]
    },
    {
      "cell_type": "code",
      "execution_count": null,
      "metadata": {
        "id": "y9Q--ipj8Irg"
      },
      "outputs": [],
      "source": [
        "#1\n",
        "\n",
        "Leia velocidade\n",
        "\n",
        "if velocidade > 80:\n",
        "  multa = 5 * (velocidade - 80)\n",
        "  print multa"
      ]
    },
    {
      "cell_type": "code",
      "source": [
        "#2\n",
        "\n",
        "numeros = []\n",
        "\n",
        "for i in range(3):\n",
        "  numeros.append(input(f\"Número {i+1}: \"))\n",
        "\n",
        "print(f\"Maior: {max(numeros)}, Menor: {min(numeros)}\")"
      ],
      "metadata": {
        "id": "3XHwMgyh_Sjh"
      },
      "execution_count": null,
      "outputs": []
    },
    {
      "cell_type": "code",
      "source": [
        "#3\n",
        "\n",
        "Leia salario\n",
        "\n",
        "if salario > 1250:\n",
        "  aumento = 0.1 * salario\n",
        "else:\n",
        "  aumento = 0.15 * salario\n",
        "\n",
        "print aumento"
      ],
      "metadata": {
        "id": "pIlm02GtAb_Z"
      },
      "execution_count": null,
      "outputs": []
    },
    {
      "cell_type": "code",
      "source": [
        "#4\n"
      ],
      "metadata": {
        "id": "VFC7KWTBDe_I"
      },
      "execution_count": null,
      "outputs": []
    },
    {
      "cell_type": "code",
      "source": [
        "#5\n",
        "\n",
        "import operator\n",
        "\n",
        "operadores = [\"Soma\", \"Subtração\", \"Multiplicação\", \"Divisão\"]\n",
        "operadores_num = [operator.add, operator.sub, operator.mul, operator.truediv]\n",
        "\n",
        "num1 = float(input(\"Número 1: \"))\n",
        "num2 = float(input(\"Número 2: \"))\n",
        "operador = str(input(f\"Qual a operação desejada? Operações disponíveis: {operadores} \"))\n",
        "true_op = operadores_num[operadores.index(operador)]\n",
        "\n",
        "print(true_op(num1, num2))"
      ],
      "metadata": {
        "colab": {
          "base_uri": "https://localhost:8080/"
        },
        "id": "V3rXRl0zDhry",
        "outputId": "5a935332-400a-4f51-c434-8f02bf559c03"
      },
      "execution_count": null,
      "outputs": [
        {
          "output_type": "stream",
          "name": "stdout",
          "text": [
            "Número 1: 80\n",
            "Número 2: 4\n",
            "Qual a operação desejada? Operações disponíveis: ['Soma', 'Subtração', 'Multiplicação', 'Divisão'] Divisão\n",
            "20.0\n"
          ]
        }
      ]
    },
    {
      "cell_type": "code",
      "source": [
        "#6\n",
        "\n",
        "emprestimo = bool()\n",
        "\n",
        "valor_casa = float(input(\"Valor da casa: \"))\n",
        "salario = float(input(\"Salario: \"))\n",
        "tempo_pagamento = int(input(\"Anos para pagar: \"))\n",
        "\n",
        "pretensao = float(valor_casa / (tempo_pagamento * 12))\n",
        "\n",
        "if(pretensao <= 0.3 * salario):\n",
        "  print(\"Emprestimo Aprovado! :)\")\n",
        "else:\n",
        "  print(\"Emprestimo Reprovado :(\")"
      ],
      "metadata": {
        "colab": {
          "base_uri": "https://localhost:8080/"
        },
        "id": "1Fhc2Qu3HCGK",
        "outputId": "b8256f60-e2cf-4ec8-97cb-5c8e6c0ddcab"
      },
      "execution_count": null,
      "outputs": [
        {
          "output_type": "stream",
          "name": "stdout",
          "text": [
            "Valor da casa: 200000\n",
            "Salario: 2500\n",
            "Anos para pagar: 35\n",
            "Emprestimo Aprovado! :)\n"
          ]
        }
      ]
    },
    {
      "cell_type": "code",
      "source": [
        "#7\n",
        "\n"
      ],
      "metadata": {
        "id": "Z2AjwNGGOPSG"
      },
      "execution_count": null,
      "outputs": []
    }
  ]
}